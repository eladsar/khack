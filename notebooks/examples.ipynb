{
 "cells": [
  {
   "cell_type": "code",
   "execution_count": 1,
   "id": "f80f678e-f81b-4642-9fa9-169b09db607c",
   "metadata": {},
   "outputs": [],
   "source": [
    "from connect import OpenAI"
   ]
  },
  {
   "cell_type": "code",
   "execution_count": 2,
   "id": "a1187ad5-87f1-40eb-aa26-464ebcb94aa7",
   "metadata": {},
   "outputs": [],
   "source": [
    "oi = OpenAI()"
   ]
  },
  {
   "cell_type": "code",
   "execution_count": 3,
   "id": "7f4315e3-5410-4d42-a4b2-96a1655302b7",
   "metadata": {},
   "outputs": [],
   "source": [
    "res = oi.ask('is it a beautiful day?')"
   ]
  },
  {
   "cell_type": "code",
   "execution_count": 6,
   "id": "4c734c93-d762-4278-8931-493f6f111d2f",
   "metadata": {},
   "outputs": [
    {
     "data": {
      "text/plain": [
       "[<OpenAIObject at 0x7fbe31f74b80> JSON: {\n",
       "   \"finish_reason\": \"stop\",\n",
       "   \"index\": 0,\n",
       "   \"logprobs\": null,\n",
       "   \"text\": \"\\n\\nThat depends on your perspective. The day could be beautiful to some and not so pleasant to others.\"\n",
       " }]"
      ]
     },
     "execution_count": 6,
     "metadata": {},
     "output_type": "execute_result"
    }
   ],
   "source": [
    "res.choices"
   ]
  }
 ],
 "metadata": {
  "kernelspec": {
   "display_name": "Python 3 (ipykernel)",
   "language": "python",
   "name": "python3"
  },
  "language_info": {
   "codemirror_mode": {
    "name": "ipython",
    "version": 3
   },
   "file_extension": ".py",
   "mimetype": "text/x-python",
   "name": "python",
   "nbconvert_exporter": "python",
   "pygments_lexer": "ipython3",
   "version": "3.8.13"
  }
 },
 "nbformat": 4,
 "nbformat_minor": 5
}
